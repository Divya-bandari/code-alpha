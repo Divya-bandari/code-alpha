{
 "cells": [
  {
   "cell_type": "code",
   "execution_count": 1,
   "id": "fa6dc889",
   "metadata": {},
   "outputs": [
    {
     "name": "stdout",
     "output_type": "stream",
     "text": [
      "[0, 1, 1, 2, 3, 5, 8, 13, 21, 34]\n"
     ]
    }
   ],
   "source": [
    "def fibonacci(n):\n",
    "    \"\"\"Generate first n Fibonacci numbers.\"\"\"\n",
    "    a, b = 0, 1\n",
    "    for _ in range(n):\n",
    "        yield a\n",
    "        a, b = b, a + b\n",
    "\n",
    "# Example: First 10 Fibonacci numbers\n",
    "print(list(fibonacci(10)))  # [0, 1, 1, 2, 3, 5, 8, 13, 21, 34]"
   ]
  },
  {
   "cell_type": "code",
   "execution_count": 2,
   "id": "1e24c0a9",
   "metadata": {},
   "outputs": [
    {
     "name": "stdout",
     "output_type": "stream",
     "text": [
      "0 1 1 2 3 5 8 13 21 34 55 89 144 233 377 610 987 "
     ]
    }
   ],
   "source": [
    "def infinite_fib():\n",
    "    \"\"\"Infinite Fibonacci generator.\"\"\"\n",
    "    a, b = 0, 1\n",
    "    while True:\n",
    "        yield a\n",
    "        a, b = b, a + b\n",
    "\n",
    "# Example: Print until exceeding 1000\n",
    "fib = infinite_fib()\n",
    "for num in fib:\n",
    "    if num > 1000:\n",
    "        break\n",
    "    print(num, end=\" \")\n",
    "# Output: 0 1 1 2 3 5 8 13 21 34 55 89 144 233 377 610 987"
   ]
  },
  {
   "cell_type": "code",
   "execution_count": 7,
   "id": "1f0fb891",
   "metadata": {},
   "outputs": [
    {
     "name": "stdout",
     "output_type": "stream",
     "text": [
      "6765\n"
     ]
    }
   ],
   "source": [
    "from functools import lru_cache\n",
    "\n",
    "@lru_cache(maxsize=None)\n",
    "def fib_recursive(n):\n",
    "    \"\"\"Recursive Fibonacci with memoization.\"\"\"\n",
    "    if n < 2:\n",
    "        return n\n",
    "    return fib_recursive(n-1) + fib_recursive(n-2)\n",
    "\n",
    "# Example: 20th Fibonacci number \n",
    "print(fib_recursive(20)) #6765"
   ]
  },
  {
   "cell_type": "code",
   "execution_count": 8,
   "id": "06b2f2de",
   "metadata": {},
   "outputs": [
    {
     "name": "stdout",
     "output_type": "stream",
     "text": [
      "354224848179261915075\n"
     ]
    }
   ],
   "source": [
    "def fib_dp(n):\n",
    "    \"\"\"O(n) time, O(1) space Fibonacci.\"\"\"\n",
    "    if n == 0:\n",
    "        return 0\n",
    "    a, b = 0, 1\n",
    "    for _ in range(2, n+1):\n",
    "        a, b = b, a + b\n",
    "    return b\n",
    "\n",
    "# Example: 100th Fibonacci number\n",
    "print(fib_dp(100))  # 354224848179261915075"
   ]
  },
  {
   "cell_type": "code",
   "execution_count": 14,
   "id": "222f51b0",
   "metadata": {},
   "outputs": [],
   "source": [
    "def fib_matrix(n):\n",
    "    \"\"\"Ultra-fast Fibonacci using matrix exponentiation.\"\"\"\n",
    "    def multiply(a, b):\n",
    "        return [\n",
    "            [a[0][0]*b[0][0] + a[0][1]*b[1][0],\n",
    "             a[0][0]*b[0][1] + a[0][1]*b[1][1]],\n",
    "            [a[1][0]*b[0][0] + a[1][1]*b[1][0],\n",
    "             a[1][0]*b[0][1] + a[1][1]*b[1][1]]\n",
    "        ]\n",
    "    \n",
    "    def matrix_pow(mat, power):\n",
    "        # Identity matrix\n",
    "        result = [[1, 0], [0, 1]]\n",
    "        while power > 0:\n",
    "            if power % 2 == 1:\n",
    "                result = multiply(result, mat)\n",
    "            mat = multiply(mat, mat)\n",
    "            power //= 2\n",
    "        return result\n",
    "\n",
    "    if n == 0:\n",
    "        return 0\n",
    "    # Base transformation matrix\n",
    "    base = [[1, 1], [1, 0]]\n",
    "    result = matrix_pow(base, n - 1)\n",
    "    return result [0][0]"
   ]
  }
 ],
 "metadata": {
  "kernelspec": {
   "display_name": "Python 3",
   "language": "python",
   "name": "python3"
  },
  "language_info": {
   "codemirror_mode": {
    "name": "ipython",
    "version": 3
   },
   "file_extension": ".py",
   "mimetype": "text/x-python",
   "name": "python",
   "nbconvert_exporter": "python",
   "pygments_lexer": "ipython3",
   "version": "3.8.10"
  }
 },
 "nbformat": 4,
 "nbformat_minor": 5
}
